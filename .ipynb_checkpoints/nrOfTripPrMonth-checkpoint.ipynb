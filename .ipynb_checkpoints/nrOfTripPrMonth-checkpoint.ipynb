{
 "cells": [
  {
   "cell_type": "code",
   "execution_count": 10,
   "metadata": {},
   "outputs": [],
   "source": [
    "import pandas as pd\n",
    "import os"
   ]
  },
  {
   "cell_type": "code",
   "execution_count": 11,
   "metadata": {},
   "outputs": [],
   "source": [
    "year=\"\"\n",
    "month=\"\"\n"
   ]
  },
  {
   "cell_type": "code",
   "execution_count": 13,
   "metadata": {},
   "outputs": [
    {
     "name": "stdout",
     "output_type": "stream",
     "text": [
      "https://data.urbansharing.com/oslobysykkel.no/trips/v1/2019/01.csv\n",
      "No data for 01/2019\n",
      "https://data.urbansharing.com/oslobysykkel.no/trips/v1/2019/02.csv\n",
      "No data for 02/2019\n",
      "https://data.urbansharing.com/oslobysykkel.no/trips/v1/2019/03.csv\n",
      "No data for 03/2019\n",
      "https://data.urbansharing.com/oslobysykkel.no/trips/v1/2019/04.csv\n",
      "https://data.urbansharing.com/oslobysykkel.no/trips/v1/2019/05.csv\n",
      "https://data.urbansharing.com/oslobysykkel.no/trips/v1/2019/06.csv\n",
      "https://data.urbansharing.com/oslobysykkel.no/trips/v1/2019/07.csv\n",
      "https://data.urbansharing.com/oslobysykkel.no/trips/v1/2019/08.csv\n",
      "https://data.urbansharing.com/oslobysykkel.no/trips/v1/2019/09.csv\n",
      "https://data.urbansharing.com/oslobysykkel.no/trips/v1/2019/10.csv\n",
      "https://data.urbansharing.com/oslobysykkel.no/trips/v1/2019/11.csv\n",
      "https://data.urbansharing.com/oslobysykkel.no/trips/v1/2019/12.csv\n",
      "https://data.urbansharing.com/oslobysykkel.no/trips/v1/2020/01.csv\n",
      "https://data.urbansharing.com/oslobysykkel.no/trips/v1/2020/02.csv\n",
      "https://data.urbansharing.com/oslobysykkel.no/trips/v1/2020/03.csv\n",
      "https://data.urbansharing.com/oslobysykkel.no/trips/v1/2020/04.csv\n",
      "https://data.urbansharing.com/oslobysykkel.no/trips/v1/2020/05.csv\n",
      "https://data.urbansharing.com/oslobysykkel.no/trips/v1/2020/06.csv\n",
      "https://data.urbansharing.com/oslobysykkel.no/trips/v1/2020/07.csv\n",
      "https://data.urbansharing.com/oslobysykkel.no/trips/v1/2020/08.csv\n",
      "https://data.urbansharing.com/oslobysykkel.no/trips/v1/2020/09.csv\n",
      "https://data.urbansharing.com/oslobysykkel.no/trips/v1/2020/10.csv\n",
      "https://data.urbansharing.com/oslobysykkel.no/trips/v1/2020/11.csv\n",
      "https://data.urbansharing.com/oslobysykkel.no/trips/v1/2020/12.csv\n",
      "No data for 12/2020\n"
     ]
    }
   ],
   "source": [
    "#Take alot of time.. Use static list generated from this instead\n",
    "# nrOfTrips = []\n",
    "# for year in range(2019,2021):\n",
    "#     for i in range(1,13):\n",
    "#         try:\n",
    "#             month = str(i).zfill(2)\n",
    "#             URL = f\"https://data.urbansharing.com/oslobysykkel.no/trips/v1/{year}/{month}.csv\"\n",
    "#             print(URL)\n",
    "#             df = pd.read_csv(URL)\n",
    "#             nrOfTrips.append(len(df.index))\n",
    "#         except:\n",
    "#             print(f'No data for {month}/{year}')"
   ]
  },
  {
   "cell_type": "code",
   "execution_count": 22,
   "metadata": {},
   "outputs": [
    {
     "name": "stdout",
     "output_type": "stream",
     "text": [
      "235713,314189,324295,310955,389270,292586,193868,94023,11100,0,0,26491,117405,202382,289606,192131,282920,241647,158784,39559,"
     ]
    }
   ],
   "source": [
    "# for nr in nrOfTrips:\n",
    "#     print(nr, end=',')"
   ]
  },
  {
   "cell_type": "code",
   "execution_count": 23,
   "metadata": {},
   "outputs": [],
   "source": [
    "staticTripList=[235713,314189,324295,310955,389270,292586,193868,94023,11100,0,0,26491,117405,202382,289606,192131,282920,241647,158784,39559]"
   ]
  },
  {
   "cell_type": "code",
   "execution_count": 24,
   "metadata": {},
   "outputs": [
    {
     "data": {
      "text/plain": [
       "[<matplotlib.lines.Line2D at 0x1579449e130>]"
      ]
     },
     "execution_count": 24,
     "metadata": {},
     "output_type": "execute_result"
    },
    {
     "data": {
      "image/png": "[encoded data removed]",
      "text/plain": [
       "<Figure size 432x288 with 1 Axes>"
      ]
     },
     "metadata": {
      "needs_background": "light"
     },
     "output_type": "display_data"
    }
   ],
   "source": [
    "from matplotlib import pyplot as plt\n",
    "fig, ax = plt.subplots()\n",
    "ax.plot(staticTripList)\n"
   ]
  },
  {
   "cell_type": "code",
   "execution_count": null,
   "metadata": {},
   "outputs": [],
   "source": [
    "df = pd.read_csv('filename.zip')"
   ]
  },
  {
   "cell_type": "code",
   "execution_count": null,
   "metadata": {},
   "outputs": [],
   "source": [
    "\n",
    "nrOfTrips = []\n",
    "for year in range(2019,2021):\n",
    "    for i in range(1,13):\n",
    "        try:\n",
    "            month = str(i).zfill(2)\n",
    "            URL = f\"https://data.urbansharing.com/oslobysykkel.no/trips/v1/{year}/{month}.csv\"\n",
    "            print(URL)\n",
    "            df = pd.read_csv(URL)\n",
    "            nrOfTrips.append(len(df.index))\n",
    "        except:\n",
    "            print(f'No data for {month}/{year}')"
   ]
  }
 ],
 "metadata": {
  "kernelspec": {
   "display_name": "Python 3",
   "language": "python",
   "name": "python3"
  },
  "language_info": {
   "codemirror_mode": {
    "name": "ipython",
    "version": 3
   },
   "file_extension": ".py",
   "mimetype": "text/x-python",
   "name": "python",
   "nbconvert_exporter": "python",
   "pygments_lexer": "ipython3",
   "version": "3.8.5"
  }
 },
 "nbformat": 4,
 "nbformat_minor": 4
}
